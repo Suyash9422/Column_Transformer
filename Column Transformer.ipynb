{
 "cells": [
  {
   "cell_type": "markdown",
   "id": "0f662bfe",
   "metadata": {},
   "source": [
    "# <font color='orange'>Introduction </font>"
   ]
  },
  {
   "cell_type": "markdown",
   "id": "fd72bf7b",
   "metadata": {},
   "source": [
    " The ColumnTransformer is a useful tool in scikit-learn that allows you to apply different preprocessing steps to different columns of a dataset. This is particularly helpful when dealing with heterogeneous data, where different columns may require different types of preprocessing."
   ]
  },
  {
   "cell_type": "markdown",
   "id": "0fc7e635",
   "metadata": {},
   "source": [
    "It is advancement over One-Hot Encoder(OHE). As in case of OHE if we want to apply OHE on some of the columns then we have to seperate those columns and then apply OHE and then again stack it Horiontally . This drawback of OHE is overcome by column Transformer\n"
   ]
  },
  {
   "cell_type": "markdown",
   "id": "abb75d80",
   "metadata": {},
   "source": [
    "# <font color='orange'>Practical </font>"
   ]
  },
  {
   "cell_type": "code",
   "execution_count": 17,
   "id": "fde5bd48",
   "metadata": {},
   "outputs": [],
   "source": [
    "#importing libraries\n",
    "import pandas as pd \n",
    "import numpy as np\n",
    "from sklearn.compose import ColumnTransformer\n",
    "from sklearn.impute import SimpleImputer\n",
    "from sklearn.preprocessing import OneHotEncoder\n",
    "from sklearn.preprocessing import OrdinalEncoder"
   ]
  },
  {
   "cell_type": "code",
   "execution_count": 18,
   "id": "76ed8711",
   "metadata": {},
   "outputs": [],
   "source": [
    "#importing data \n",
    "data = pd.read_csv('covid.csv')"
   ]
  },
  {
   "cell_type": "code",
   "execution_count": 19,
   "id": "33b2c3c3",
   "metadata": {},
   "outputs": [
    {
     "data": {
      "text/html": [
       "<div>\n",
       "<style scoped>\n",
       "    .dataframe tbody tr th:only-of-type {\n",
       "        vertical-align: middle;\n",
       "    }\n",
       "\n",
       "    .dataframe tbody tr th {\n",
       "        vertical-align: top;\n",
       "    }\n",
       "\n",
       "    .dataframe thead th {\n",
       "        text-align: right;\n",
       "    }\n",
       "</style>\n",
       "<table border=\"1\" class=\"dataframe\">\n",
       "  <thead>\n",
       "    <tr style=\"text-align: right;\">\n",
       "      <th></th>\n",
       "      <th>Age</th>\n",
       "      <th>Gender</th>\n",
       "      <th>Fever</th>\n",
       "      <th>Cough</th>\n",
       "      <th>City</th>\n",
       "      <th>Has_Covid</th>\n",
       "    </tr>\n",
       "  </thead>\n",
       "  <tbody>\n",
       "    <tr>\n",
       "      <th>0</th>\n",
       "      <td>39</td>\n",
       "      <td>Female</td>\n",
       "      <td>75.0</td>\n",
       "      <td>NO</td>\n",
       "      <td>Nashik</td>\n",
       "      <td>YES</td>\n",
       "    </tr>\n",
       "    <tr>\n",
       "      <th>1</th>\n",
       "      <td>65</td>\n",
       "      <td>Female</td>\n",
       "      <td>110.0</td>\n",
       "      <td>NO</td>\n",
       "      <td>Kolhapur</td>\n",
       "      <td>NO</td>\n",
       "    </tr>\n",
       "    <tr>\n",
       "      <th>2</th>\n",
       "      <td>50</td>\n",
       "      <td>Female</td>\n",
       "      <td>72.0</td>\n",
       "      <td>MILD</td>\n",
       "      <td>Mumbai</td>\n",
       "      <td>YES</td>\n",
       "    </tr>\n",
       "    <tr>\n",
       "      <th>3</th>\n",
       "      <td>33</td>\n",
       "      <td>Female</td>\n",
       "      <td>86.0</td>\n",
       "      <td>STRONG</td>\n",
       "      <td>Mumbai</td>\n",
       "      <td>YES</td>\n",
       "    </tr>\n",
       "    <tr>\n",
       "      <th>4</th>\n",
       "      <td>66</td>\n",
       "      <td>Female</td>\n",
       "      <td>85.0</td>\n",
       "      <td>MILD</td>\n",
       "      <td>Mumbai</td>\n",
       "      <td>YES</td>\n",
       "    </tr>\n",
       "  </tbody>\n",
       "</table>\n",
       "</div>"
      ],
      "text/plain": [
       "   Age  Gender  Fever   Cough      City Has_Covid\n",
       "0   39  Female   75.0      NO    Nashik       YES\n",
       "1   65  Female  110.0      NO  Kolhapur        NO\n",
       "2   50  Female   72.0    MILD    Mumbai       YES\n",
       "3   33  Female   86.0  STRONG    Mumbai       YES\n",
       "4   66  Female   85.0    MILD    Mumbai       YES"
      ]
     },
     "execution_count": 19,
     "metadata": {},
     "output_type": "execute_result"
    }
   ],
   "source": [
    "data.head() "
   ]
  },
  {
   "cell_type": "code",
   "execution_count": 20,
   "id": "f87b1b14",
   "metadata": {},
   "outputs": [
    {
     "data": {
      "text/plain": [
       "Age           0\n",
       "Gender        0\n",
       "Fever        11\n",
       "Cough         0\n",
       "City          0\n",
       "Has_Covid     0\n",
       "dtype: int64"
      ]
     },
     "execution_count": 20,
     "metadata": {},
     "output_type": "execute_result"
    }
   ],
   "source": [
    "data.isnull().sum() #checking data for missing values"
   ]
  },
  {
   "cell_type": "markdown",
   "id": "6a8b531f",
   "metadata": {},
   "source": [
    "So here we have total 6 columns , among which age column is fine , gender and city should be OHE , Fever should be apply simpleImputer , cough should be ordinal Encoder and Has_covid should undergo label Encoder"
   ]
  },
  {
   "cell_type": "markdown",
   "id": "94f6b9b7",
   "metadata": {},
   "source": [
    "## <font color='orange'>Using column Transformer </font>"
   ]
  },
  {
   "cell_type": "code",
   "execution_count": 21,
   "id": "4be722a9",
   "metadata": {},
   "outputs": [],
   "source": [
    "#create a object for ColumnTransformer\n",
    "trans = ColumnTransformer(transformers=[\n",
    "    ('tnf1',SimpleImputer(),['Fever']),\n",
    "    ('tnf2',OneHotEncoder(sparse=False,drop='first'),['Gender','City']),\n",
    "    ('tnf3',OrdinalEncoder(categories=[['NO','MILD','STRONG']]),['Cough'])\n",
    "],remainder='passthrough') # here we pass 2 parameters , 1st one transformers which defines a list of transformations we want to apply and 2nd one is remainder which means the remaining columns where the transformations are not applied . remainder has option of 2 values 1.drop ->will drop remaining cols 2.passthrough -> we accept the remaining cols as it is"
   ]
  },
  {
   "cell_type": "code",
   "execution_count": 23,
   "id": "f788a23c",
   "metadata": {},
   "outputs": [
    {
     "name": "stderr",
     "output_type": "stream",
     "text": [
      "C:\\Users\\suyas\\anaconda3\\lib\\site-packages\\sklearn\\preprocessing\\_encoders.py:828: FutureWarning: `sparse` was renamed to `sparse_output` in version 1.2 and will be removed in 1.4. `sparse_output` is ignored unless you leave `sparse` to its default value.\n",
      "  warnings.warn(\n"
     ]
    },
    {
     "data": {
      "text/plain": [
       "array([[75.0, 0.0, 0.0, 1.0, 0.0, 0.0, 39, 'YES'],\n",
       "       [110.0, 0.0, 0.0, 0.0, 0.0, 0.0, 65, 'NO'],\n",
       "       [72.0, 0.0, 1.0, 0.0, 0.0, 1.0, 50, 'YES'],\n",
       "       [86.0, 0.0, 1.0, 0.0, 0.0, 2.0, 33, 'YES'],\n",
       "       [85.0, 0.0, 1.0, 0.0, 0.0, 1.0, 66, 'YES'],\n",
       "       [90.0, 1.0, 1.0, 0.0, 0.0, 1.0, 23, 'NO'],\n",
       "       [86.0, 0.0, 0.0, 1.0, 0.0, 2.0, 37, 'NO'],\n",
       "       [82.0, 0.0, 0.0, 1.0, 0.0, 1.0, 42, 'NO'],\n",
       "       [91.84269662921348, 1.0, 1.0, 0.0, 0.0, 0.0, 44, 'YES'],\n",
       "       [96.0, 0.0, 0.0, 0.0, 1.0, 2.0, 51, 'YES'],\n",
       "       [74.0, 0.0, 0.0, 0.0, 1.0, 2.0, 29, 'YES'],\n",
       "       [103.0, 0.0, 1.0, 0.0, 0.0, 1.0, 57, 'NO'],\n",
       "       [114.0, 1.0, 1.0, 0.0, 0.0, 2.0, 25, 'YES'],\n",
       "       [114.0, 0.0, 0.0, 0.0, 1.0, 2.0, 29, 'NO'],\n",
       "       [91.0, 0.0, 0.0, 1.0, 0.0, 1.0, 60, 'NO'],\n",
       "       [100.0, 1.0, 0.0, 0.0, 0.0, 0.0, 43, 'YES'],\n",
       "       [91.84269662921348, 1.0, 0.0, 0.0, 0.0, 0.0, 62, 'YES'],\n",
       "       [110.0, 1.0, 0.0, 0.0, 1.0, 2.0, 45, 'YES'],\n",
       "       [91.0, 0.0, 0.0, 0.0, 0.0, 2.0, 30, 'YES'],\n",
       "       [91.84269662921348, 0.0, 0.0, 0.0, 0.0, 1.0, 27, 'NO'],\n",
       "       [95.0, 0.0, 0.0, 0.0, 0.0, 1.0, 69, 'YES'],\n",
       "       [85.0, 1.0, 0.0, 1.0, 0.0, 2.0, 67, 'NO'],\n",
       "       [78.0, 1.0, 0.0, 0.0, 1.0, 2.0, 53, 'YES'],\n",
       "       [79.0, 0.0, 1.0, 0.0, 0.0, 1.0, 36, 'YES'],\n",
       "       [89.0, 1.0, 0.0, 0.0, 0.0, 0.0, 54, 'YES'],\n",
       "       [95.0, 0.0, 0.0, 0.0, 1.0, 2.0, 47, 'YES'],\n",
       "       [94.0, 0.0, 0.0, 0.0, 0.0, 2.0, 52, 'YES'],\n",
       "       [74.0, 0.0, 0.0, 1.0, 0.0, 1.0, 39, 'YES'],\n",
       "       [99.0, 1.0, 0.0, 0.0, 0.0, 0.0, 30, 'YES'],\n",
       "       [94.0, 0.0, 0.0, 0.0, 0.0, 0.0, 24, 'NO'],\n",
       "       [110.0, 0.0, 0.0, 0.0, 0.0, 1.0, 50, 'YES'],\n",
       "       [93.0, 0.0, 0.0, 1.0, 0.0, 1.0, 57, 'NO'],\n",
       "       [91.84269662921348, 1.0, 0.0, 0.0, 0.0, 2.0, 47, 'YES'],\n",
       "       [80.0, 1.0, 1.0, 0.0, 0.0, 0.0, 65, 'YES'],\n",
       "       [89.0, 1.0, 1.0, 0.0, 0.0, 1.0, 54, 'NO'],\n",
       "       [97.0, 1.0, 0.0, 1.0, 0.0, 1.0, 20, 'NO'],\n",
       "       [76.0, 0.0, 1.0, 0.0, 0.0, 1.0, 57, 'NO'],\n",
       "       [109.0, 0.0, 1.0, 0.0, 0.0, 2.0, 56, 'YES'],\n",
       "       [108.0, 0.0, 1.0, 0.0, 0.0, 1.0, 42, 'NO'],\n",
       "       [70.0, 1.0, 0.0, 1.0, 0.0, 0.0, 48, 'YES'],\n",
       "       [85.0, 1.0, 0.0, 0.0, 0.0, 1.0, 22, 'YES'],\n",
       "       [95.0, 1.0, 0.0, 0.0, 1.0, 1.0, 60, 'YES'],\n",
       "       [99.0, 0.0, 0.0, 0.0, 0.0, 0.0, 30, 'NO'],\n",
       "       [93.0, 0.0, 0.0, 0.0, 0.0, 1.0, 67, 'NO'],\n",
       "       [98.0, 1.0, 1.0, 0.0, 0.0, 2.0, 50, 'YES'],\n",
       "       [71.0, 0.0, 0.0, 0.0, 0.0, 0.0, 32, 'NO'],\n",
       "       [91.84269662921348, 1.0, 1.0, 0.0, 0.0, 2.0, 66, 'NO'],\n",
       "       [89.0, 1.0, 1.0, 0.0, 0.0, 2.0, 53, 'NO'],\n",
       "       [102.0, 1.0, 0.0, 0.0, 1.0, 2.0, 60, 'YES'],\n",
       "       [108.0, 0.0, 1.0, 0.0, 0.0, 0.0, 40, 'YES'],\n",
       "       [89.0, 0.0, 0.0, 0.0, 0.0, 1.0, 39, 'NO'],\n",
       "       [91.84269662921348, 0.0, 1.0, 0.0, 0.0, 1.0, 57, 'YES'],\n",
       "       [89.0, 1.0, 1.0, 0.0, 0.0, 0.0, 29, 'YES'],\n",
       "       [72.0, 0.0, 1.0, 0.0, 0.0, 1.0, 39, 'YES'],\n",
       "       [70.0, 0.0, 1.0, 0.0, 0.0, 1.0, 20, 'NO'],\n",
       "       [75.0, 0.0, 0.0, 0.0, 1.0, 0.0, 35, 'YES'],\n",
       "       [90.0, 0.0, 1.0, 0.0, 0.0, 0.0, 22, 'YES'],\n",
       "       [86.0, 0.0, 0.0, 1.0, 0.0, 2.0, 28, 'YES'],\n",
       "       [103.0, 0.0, 0.0, 0.0, 0.0, 2.0, 35, 'NO'],\n",
       "       [73.0, 1.0, 0.0, 0.0, 1.0, 2.0, 53, 'YES'],\n",
       "       [71.0, 0.0, 0.0, 1.0, 0.0, 1.0, 45, 'NO'],\n",
       "       [97.0, 0.0, 1.0, 0.0, 0.0, 0.0, 20, 'YES'],\n",
       "       [99.0, 1.0, 0.0, 0.0, 1.0, 0.0, 44, 'NO'],\n",
       "       [70.0, 0.0, 0.0, 1.0, 0.0, 0.0, 29, 'NO'],\n",
       "       [97.0, 0.0, 0.0, 0.0, 0.0, 1.0, 56, 'NO'],\n",
       "       [91.84269662921348, 1.0, 0.0, 0.0, 0.0, 2.0, 33, 'YES'],\n",
       "       [113.0, 1.0, 0.0, 1.0, 0.0, 2.0, 28, 'YES'],\n",
       "       [110.0, 1.0, 0.0, 0.0, 1.0, 1.0, 70, 'YES'],\n",
       "       [96.0, 1.0, 0.0, 0.0, 0.0, 2.0, 36, 'NO'],\n",
       "       [107.0, 0.0, 0.0, 0.0, 0.0, 0.0, 34, 'YES'],\n",
       "       [74.0, 0.0, 1.0, 0.0, 0.0, 1.0, 41, 'NO'],\n",
       "       [89.0, 1.0, 0.0, 0.0, 0.0, 2.0, 26, 'NO'],\n",
       "       [113.0, 0.0, 1.0, 0.0, 0.0, 2.0, 37, 'NO'],\n",
       "       [92.0, 1.0, 0.0, 0.0, 0.0, 2.0, 28, 'NO'],\n",
       "       [87.0, 1.0, 1.0, 0.0, 0.0, 1.0, 40, 'NO'],\n",
       "       [95.0, 1.0, 0.0, 0.0, 0.0, 0.0, 45, 'YES'],\n",
       "       [113.0, 0.0, 1.0, 0.0, 0.0, 1.0, 30, 'YES'],\n",
       "       [85.0, 1.0, 0.0, 0.0, 0.0, 0.0, 63, 'YES'],\n",
       "       [110.0, 1.0, 0.0, 0.0, 0.0, 1.0, 25, 'NO'],\n",
       "       [78.0, 0.0, 0.0, 0.0, 0.0, 2.0, 37, 'YES'],\n",
       "       [91.84269662921348, 1.0, 1.0, 0.0, 0.0, 1.0, 22, 'NO'],\n",
       "       [109.0, 1.0, 0.0, 0.0, 0.0, 0.0, 47, 'YES'],\n",
       "       [98.0, 0.0, 0.0, 0.0, 1.0, 2.0, 46, 'YES'],\n",
       "       [88.0, 0.0, 0.0, 1.0, 0.0, 1.0, 24, 'YES'],\n",
       "       [91.84269662921348, 0.0, 0.0, 1.0, 0.0, 0.0, 43, 'NO'],\n",
       "       [104.0, 1.0, 1.0, 0.0, 0.0, 1.0, 57, 'YES'],\n",
       "       [78.0, 0.0, 0.0, 0.0, 0.0, 2.0, 62, 'NO'],\n",
       "       [89.0, 1.0, 0.0, 1.0, 0.0, 0.0, 67, 'YES'],\n",
       "       [91.84269662921348, 0.0, 0.0, 1.0, 0.0, 0.0, 27, 'YES'],\n",
       "       [101.0, 0.0, 0.0, 0.0, 0.0, 0.0, 41, 'NO'],\n",
       "       [97.0, 0.0, 0.0, 0.0, 0.0, 0.0, 37, 'YES'],\n",
       "       [97.0, 1.0, 0.0, 0.0, 0.0, 2.0, 46, 'YES'],\n",
       "       [91.84269662921348, 1.0, 1.0, 0.0, 0.0, 0.0, 37, 'NO'],\n",
       "       [95.0, 0.0, 1.0, 0.0, 0.0, 1.0, 41, 'YES'],\n",
       "       [77.0, 1.0, 1.0, 0.0, 0.0, 1.0, 64, 'NO'],\n",
       "       [104.0, 1.0, 0.0, 0.0, 1.0, 2.0, 68, 'YES'],\n",
       "       [95.0, 0.0, 0.0, 0.0, 0.0, 2.0, 20, 'YES'],\n",
       "       [87.0, 0.0, 1.0, 0.0, 0.0, 1.0, 38, 'NO'],\n",
       "       [99.0, 1.0, 0.0, 0.0, 0.0, 0.0, 26, 'YES'],\n",
       "       [80.0, 0.0, 1.0, 0.0, 0.0, 2.0, 58, 'YES']], dtype=object)"
      ]
     },
     "execution_count": 23,
     "metadata": {},
     "output_type": "execute_result"
    }
   ],
   "source": [
    "trans.fit_transform(data)"
   ]
  },
  {
   "cell_type": "code",
   "execution_count": 24,
   "id": "a21c5862",
   "metadata": {},
   "outputs": [
    {
     "name": "stderr",
     "output_type": "stream",
     "text": [
      "C:\\Users\\suyas\\anaconda3\\lib\\site-packages\\sklearn\\preprocessing\\_encoders.py:828: FutureWarning: `sparse` was renamed to `sparse_output` in version 1.2 and will be removed in 1.4. `sparse_output` is ignored unless you leave `sparse` to its default value.\n",
      "  warnings.warn(\n"
     ]
    },
    {
     "data": {
      "text/plain": [
       "(100, 8)"
      ]
     },
     "execution_count": 24,
     "metadata": {},
     "output_type": "execute_result"
    }
   ],
   "source": [
    "trans.fit_transform(data).shape"
   ]
  },
  {
   "cell_type": "code",
   "execution_count": null,
   "id": "dc099a2a",
   "metadata": {},
   "outputs": [],
   "source": []
  }
 ],
 "metadata": {
  "kernelspec": {
   "display_name": "Python 3 (ipykernel)",
   "language": "python",
   "name": "python3"
  },
  "language_info": {
   "codemirror_mode": {
    "name": "ipython",
    "version": 3
   },
   "file_extension": ".py",
   "mimetype": "text/x-python",
   "name": "python",
   "nbconvert_exporter": "python",
   "pygments_lexer": "ipython3",
   "version": "3.10.9"
  }
 },
 "nbformat": 4,
 "nbformat_minor": 5
}

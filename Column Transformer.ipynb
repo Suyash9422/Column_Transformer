{
 "cells": [
  {
   "cell_type": "markdown",
   "id": "7e3e1329",
   "metadata": {},
   "source": [
    "# <font color='orange'>Introduction </font>"
   ]
  },
  {
   "cell_type": "markdown",
   "id": "89054157",
   "metadata": {},
   "source": [
    " The ColumnTransformer is a useful tool in scikit-learn that allows you to apply different preprocessing steps to different columns of a dataset. This is particularly helpful when dealing with heterogeneous data, where different columns may require different types of preprocessing."
   ]
  },
  {
   "cell_type": "markdown",
   "id": "702bf17a",
   "metadata": {},
   "source": [
    "It is advancement over One-Hot Encoder(OHE). As in case of OHE if we want to apply OHE on some of the columns then we have to seperate those columns and then apply OHE and then again stack it Horiontally . This drawback of OHE is overcome by column Transformer\n"
   ]
  },
  {
   "cell_type": "markdown",
   "id": "b42015ce",
   "metadata": {},
   "source": [
    "# <font color='orange'>Practical </font>"
   ]
  },
  {
   "cell_type": "code",
   "execution_count": 9,
   "id": "14970460",
   "metadata": {},
   "outputs": [],
   "source": [
    "#importing libraries\n",
    "import pandas as pd \n",
    "import numpy as np\n",
    "from sklearn.compose import ColumnTransformer\n",
    "from sklearn.impute import SimpleImputer\n",
    "from sklearn.preprocessing import OneHotEncoder\n",
    "from sklearn.preprocessing import OrdinalEncoder"
   ]
  },
  {
   "cell_type": "code",
   "execution_count": 3,
   "id": "7b752d81",
   "metadata": {},
   "outputs": [],
   "source": [
    "#importing data \n",
    "data = pd.read_csv('covid.csv')"
   ]
  },
  {
   "cell_type": "code",
   "execution_count": 4,
   "id": "7ad10cda",
   "metadata": {},
   "outputs": [
    {
     "data": {
      "text/html": [
       "<div>\n",
       "<style scoped>\n",
       "    .dataframe tbody tr th:only-of-type {\n",
       "        vertical-align: middle;\n",
       "    }\n",
       "\n",
       "    .dataframe tbody tr th {\n",
       "        vertical-align: top;\n",
       "    }\n",
       "\n",
       "    .dataframe thead th {\n",
       "        text-align: right;\n",
       "    }\n",
       "</style>\n",
       "<table border=\"1\" class=\"dataframe\">\n",
       "  <thead>\n",
       "    <tr style=\"text-align: right;\">\n",
       "      <th></th>\n",
       "      <th>Age</th>\n",
       "      <th>Gender</th>\n",
       "      <th>Fever</th>\n",
       "      <th>Cough</th>\n",
       "      <th>City</th>\n",
       "      <th>Has_Covid</th>\n",
       "    </tr>\n",
       "  </thead>\n",
       "  <tbody>\n",
       "    <tr>\n",
       "      <th>0</th>\n",
       "      <td>39</td>\n",
       "      <td>Female</td>\n",
       "      <td>75.0</td>\n",
       "      <td>NO</td>\n",
       "      <td>Nashik</td>\n",
       "      <td>YES</td>\n",
       "    </tr>\n",
       "    <tr>\n",
       "      <th>1</th>\n",
       "      <td>65</td>\n",
       "      <td>Female</td>\n",
       "      <td>110.0</td>\n",
       "      <td>NO</td>\n",
       "      <td>Kolhapur</td>\n",
       "      <td>NO</td>\n",
       "    </tr>\n",
       "    <tr>\n",
       "      <th>2</th>\n",
       "      <td>50</td>\n",
       "      <td>Female</td>\n",
       "      <td>72.0</td>\n",
       "      <td>MILD</td>\n",
       "      <td>Mumbai</td>\n",
       "      <td>YES</td>\n",
       "    </tr>\n",
       "    <tr>\n",
       "      <th>3</th>\n",
       "      <td>33</td>\n",
       "      <td>Female</td>\n",
       "      <td>86.0</td>\n",
       "      <td>STRONG</td>\n",
       "      <td>Mumbai</td>\n",
       "      <td>YES</td>\n",
       "    </tr>\n",
       "    <tr>\n",
       "      <th>4</th>\n",
       "      <td>66</td>\n",
       "      <td>Female</td>\n",
       "      <td>85.0</td>\n",
       "      <td>MILD</td>\n",
       "      <td>Mumbai</td>\n",
       "      <td>YES</td>\n",
       "    </tr>\n",
       "  </tbody>\n",
       "</table>\n",
       "</div>"
      ],
      "text/plain": [
       "   Age  Gender  Fever   Cough      City Has_Covid\n",
       "0   39  Female   75.0      NO    Nashik       YES\n",
       "1   65  Female  110.0      NO  Kolhapur        NO\n",
       "2   50  Female   72.0    MILD    Mumbai       YES\n",
       "3   33  Female   86.0  STRONG    Mumbai       YES\n",
       "4   66  Female   85.0    MILD    Mumbai       YES"
      ]
     },
     "execution_count": 4,
     "metadata": {},
     "output_type": "execute_result"
    }
   ],
   "source": [
    "data.head() "
   ]
  },
  {
   "cell_type": "code",
   "execution_count": 5,
   "id": "22200ab4",
   "metadata": {},
   "outputs": [
    {
     "data": {
      "text/plain": [
       "Age           0\n",
       "Gender        0\n",
       "Fever        11\n",
       "Cough         0\n",
       "City          0\n",
       "Has_Covid     0\n",
       "dtype: int64"
      ]
     },
     "execution_count": 5,
     "metadata": {},
     "output_type": "execute_result"
    }
   ],
   "source": [
    "data.isnull().sum() #checking data for missing values"
   ]
  },
  {
   "cell_type": "markdown",
   "id": "b231b581",
   "metadata": {},
   "source": [
    "So here we have total 6 columns , among which age column is fine , gender and city should be OHE , Fever should be apply simpleImputer , cough should be ordinal Encoder and Has_covid should undergo label Encoder"
   ]
  },
  {
   "cell_type": "markdown",
   "id": "0227ee9c",
   "metadata": {},
   "source": [
    "## <font color='orange'>Using column Transformer </font>"
   ]
  },
  {
   "cell_type": "code",
   "execution_count": 10,
   "id": "209f89d8",
   "metadata": {},
   "outputs": [],
   "source": [
    "#create a object for ColumnTransformer\n",
    "trans = ColumnTransformer(transformers=[\n",
    "    ('tnf1',SimpleImputer(),['Fever']),\n",
    "    ('tnf2',OneHotEncoder(sparse=False,drop='first'),['Gender','City']),\n",
    "    ('tnf3',OrdinalEncoder(categories=[['NO','MILD','STRONG']]),['Cough'])\n",
    "],remainder='passthrough') # here we pass 2 parameters , 1st one transformers which defines a list of transformations we want to apply and 2nd one is remainder which means the remaining columns where the transformations are not applied . remainder has option of 2 values 1.drop ->will drop remaining cols 2.passthrough -> we accept the remaining cols as it is"
   ]
  },
  {
   "cell_type": "code",
   "execution_count": 16,
   "id": "3f3fe67f",
   "metadata": {},
   "outputs": [
    {
     "name": "stderr",
     "output_type": "stream",
     "text": [
      "C:\\Users\\suyas\\anaconda3\\lib\\site-packages\\sklearn\\preprocessing\\_encoders.py:828: FutureWarning: `sparse` was renamed to `sparse_output` in version 1.2 and will be removed in 1.4. `sparse_output` is ignored unless you leave `sparse` to its default value.\n",
      "  warnings.warn(\n"
     ]
    },
    {
     "data": {
      "text/plain": [
       "(100, 8)"
      ]
     },
     "execution_count": 16,
     "metadata": {},
     "output_type": "execute_result"
    }
   ],
   "source": [
    "trans.fit_transform(data).shape"
   ]
  },
  {
   "cell_type": "code",
   "execution_count": null,
   "id": "0a4f3ce5",
   "metadata": {},
   "outputs": [],
   "source": []
  }
 ],
 "metadata": {
  "kernelspec": {
   "display_name": "Python 3 (ipykernel)",
   "language": "python",
   "name": "python3"
  },
  "language_info": {
   "codemirror_mode": {
    "name": "ipython",
    "version": 3
   },
   "file_extension": ".py",
   "mimetype": "text/x-python",
   "name": "python",
   "nbconvert_exporter": "python",
   "pygments_lexer": "ipython3",
   "version": "3.10.9"
  }
 },
 "nbformat": 4,
 "nbformat_minor": 5
}
